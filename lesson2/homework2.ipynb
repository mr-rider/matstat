{
 "cells": [
  {
   "cell_type": "markdown",
   "metadata": {},
   "source": [
    "1.Вероятность того, что стрелок попадет в мишень, выстрелив один раз, равна 0.8. Стрелок выстрелил 100 раз. Найдите вероятность того, что стрелок попадет в цель ровно 85 раз."
   ]
  },
  {
   "cell_type": "code",
   "execution_count": 10,
   "metadata": {},
   "outputs": [
    {
     "name": "stdout",
     "output_type": "stream",
     "text": [
      "Вероятность, что стрелок попадет в цель 85 раз: 0.048061793700746355\n"
     ]
    }
   ],
   "source": [
    "import numpy as np\n",
    "from math import factorial\n",
    "\n",
    "# функция расчета числа сочетаний\n",
    "def combinations(n, k):\n",
    "    return int(factorial(n)/(factorial(k) * factorial(n - k)))\n",
    "\n",
    "\n",
    "number_of_shots = 100\n",
    "number_of_hits = 85\n",
    "p1 = 0.8\n",
    "\n",
    "# вероятность по формуле Бернулли\n",
    "p85 = combinations(number_of_shots, number_of_hits) * (p1 ** number_of_hits)*(1-p1)**(number_of_shots - number_of_hits)\n",
    "\n",
    "print(f'Вероятность, что стрелок попадет в цель 85 раз: {p85}')"
   ]
  },
  {
   "cell_type": "markdown",
   "metadata": {},
   "source": [
    "2. Вероятность того, что лампочка перегорит в течение первого дня эксплуатации, равна 0.0004. В жилом комплексе после ремонта в один день включили 5000 новых лампочек. Какова вероятность, что ни одна из них не перегорит в первый день? Какова вероятность, что перегорят ровно две?"
   ]
  },
  {
   "cell_type": "code",
   "execution_count": 11,
   "metadata": {},
   "outputs": [
    {
     "name": "stdout",
     "output_type": "stream",
     "text": [
      "Лямбда :2.0\n",
      "Вероятность, что ни одна из лампочек не перегорит в первый день: 0.1353352832366127\n",
      "Вероятность, что перегорит две лампочки: 0.2706705664732254\n"
     ]
    }
   ],
   "source": [
    "number_of_lamps = 5000 #n\n",
    "broken_lamp = 0 #m\n",
    "p_a = 0.0004\n",
    "\n",
    "lambda_ = number_of_lamps * p_a\n",
    "\n",
    "print(f'Лямбда :{lambda_}')\n",
    "\n",
    "# формула Пуассона\n",
    "p = (lambda_ ** broken_lamp / factorial(broken_lamp)) * np.exp(-lambda_)\n",
    "print(f'Вероятность, что ни одна из лампочек не перегорит в первый день: {p}')\n",
    "\n",
    "# вероятность, что перегорят две лампочки\n",
    "broken_lamp = 2\n",
    "p = (lambda_ ** broken_lamp / factorial(broken_lamp)) * np.exp(-lambda_)\n",
    "print(f'Вероятность, что перегорит две лампочки: {p}')"
   ]
  },
  {
   "cell_type": "markdown",
   "metadata": {},
   "source": [
    "3. Монету подбросили 144 раза. Какова вероятность, что орел выпадет ровно 70 раз?"
   ]
  },
  {
   "cell_type": "code",
   "execution_count": 12,
   "metadata": {},
   "outputs": [
    {
     "name": "stdout",
     "output_type": "stream",
     "text": [
      "Вероятность выпадения орла 70 раз: 0.06281178035144776\n"
     ]
    }
   ],
   "source": [
    "number_of_throws = 144\n",
    "number_of_eagles =70\n",
    "p1 = 0.5\n",
    "\n",
    "p70 = combinations(number_of_throws, number_of_eagles) * (p1 ** number_of_eagles)*(1-p1)**(number_of_throws - number_of_eagles)\n",
    "print(f'Вероятность выпадения орла 70 раз: {p70}')"
   ]
  },
  {
   "cell_type": "markdown",
   "metadata": {},
   "source": [
    "4.В первом ящике находится 10 мячей, из которых 7 - белые. Во втором ящике - 11 мячей, из которых 9 белых. Из каждого ящика вытаскивают случайным образом по два мяча. Какова вероятность того, что все мячи белые? Какова вероятность того, что ровно два мяча белые? Какова вероятность того, что хотя бы один мяч белый?"
   ]
  },
  {
   "cell_type": "code",
   "execution_count": 13,
   "metadata": {},
   "outputs": [
    {
     "name": "stdout",
     "output_type": "stream",
     "text": [
      "Вероятность вытащить из первого ящика все белые мячи 0.4666666666666667\n",
      "Вероятность вытаащить из второго ящика два белых мяча 0.6545454545454545\n",
      "Вероятность, что все четыре мяча белые 0.3054545454545455\n"
     ]
    }
   ],
   "source": [
    "number_of_balls1 = 10\n",
    "number_of_balls2 = 11\n",
    "white_balls1 = 7\n",
    "white_balls2 =9\n",
    "taked_balls =2\n",
    "\n",
    "# Вероятность вытащить из первого ящика все белые мячи\n",
    "P1_2 = combinations(white_balls1, taked_balls)/combinations(number_of_balls1, taked_balls)\n",
    "print(f'Вероятность вытащить из первого ящика все белые мячи {P1_2}')\n",
    "\n",
    "# Вероятность вытащить из второго ящика все белые мячи\n",
    "P2_2 = combinations(white_balls2, taked_balls)/combinations(number_of_balls2, taked_balls)\n",
    "print(f'Вероятность вытаащить из второго ящика два белых мяча {P2_2}')\n",
    "\n",
    "# Вероятность, что все четыре мяча белые\n",
    "P4 = P1_2*P2_2\n",
    "print(f'Вероятность, что все четыре мяча белые {P4}')"
   ]
  }
 ],
 "metadata": {
  "kernelspec": {
   "display_name": "Python 3",
   "language": "python",
   "name": "python3"
  },
  "language_info": {
   "codemirror_mode": {
    "name": "ipython",
    "version": 3
   },
   "file_extension": ".py",
   "mimetype": "text/x-python",
   "name": "python",
   "nbconvert_exporter": "python",
   "pygments_lexer": "ipython3",
   "version": "3.7.3"
  }
 },
 "nbformat": 4,
 "nbformat_minor": 2
}
