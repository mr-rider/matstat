{
 "cells": [
  {
   "cell_type": "markdown",
   "metadata": {},
   "source": [
    "1) Известно, что генеральная совокупность распределена нормально \u000b",
    "со средним квадратическим отклонением, равным 16.\u000b",
    "Найти доверительный интервал для оценки математического ожидания с надежностью 0.95,\u000b",
    "если выборочная средняя M = 80, а объем выборки n = 256."
   ]
  },
  {
   "cell_type": "code",
   "execution_count": 2,
   "metadata": {},
   "outputs": [
    {
     "name": "stdout",
     "output_type": "stream",
     "text": [
      "Collecting scipy\n",
      "\u001b[?25l  Downloading https://files.pythonhosted.org/packages/b2/85/b00f13b52d079b5625e1a12330fc6453c947a482ff667a907c7bc60ed220/scipy-1.7.0-cp37-cp37m-manylinux_2_5_x86_64.manylinux1_x86_64.whl (28.5MB)\n",
      "\u001b[K     |████████████████████████████████| 28.5MB 2.1MB/s eta 0:00:01     |██████████████████▉             | 16.8MB 2.1MB/s eta 0:00:06     |███████████████████▍            | 17.3MB 2.1MB/s eta 0:00:06\n",
      "\u001b[?25hRequirement already satisfied: numpy<1.23.0,>=1.16.5 in /home/mr-rider/snap/jupyter/common/lib/python3.7/site-packages (from scipy) (1.20.3)\n",
      "Installing collected packages: scipy\n",
      "Successfully installed scipy-1.7.0\n",
      "Note: you may need to restart the kernel to use updated packages.\n"
     ]
    }
   ],
   "source": [
    "pip install scipy\n"
   ]
  },
  {
   "cell_type": "code",
   "execution_count": 24,
   "metadata": {},
   "outputs": [
    {
     "name": "stdout",
     "output_type": "stream",
     "text": [
      "Доверительный интервал [78.04003601545995;81.95996398454005]\n"
     ]
    }
   ],
   "source": [
    "import scipy.stats as sps\n",
    "import math\n",
    "\n",
    "s_0 = 16\n",
    "p = 0.95\n",
    "M = 80\n",
    "n = 256\n",
    "\n",
    "a = 1 - p\n",
    "T_1 = M - (sps.norm.ppf(p + a/2))*s_0/math.sqrt(256)\n",
    "T_2 = M + (sps.norm.ppf(p + a/2))*s_0/math.sqrt(256)\n",
    "\n",
    "print(f'Доверительный интервал [{T_1};{T_2}]')"
   ]
  },
  {
   "cell_type": "markdown",
   "metadata": {},
   "source": [
    "2) В результате 10 независимых измерений некоторой величины X, выполненных с одинаковой точностью,\u000b",
    "получены опытные данные:\u000b",
    "6.9, 6.1, 6.2, 6.8, 7.5, 6.3, 6.4, 6.9, 6.7, 6.1\u000b",
    "Предполагая, что результаты измерений подчинены нормальному закону распределения вероятностей,\u000b",
    "оценить истинное значение величины X при помощи доверительного интервала, покрывающего это\u000b",
    "значение с доверительной вероятностью 0,95."
   ]
  },
  {
   "cell_type": "code",
   "execution_count": 28,
   "metadata": {},
   "outputs": [
    {
     "name": "stdout",
     "output_type": "stream",
     "text": [
      "0.4508017549014448\n",
      "Истинное значение измеряемой велечины лежит в довертиельном интервале 6.267538255912426 < a < 6.912461744087575\n"
     ]
    }
   ],
   "source": [
    "import numpy as np\n",
    "n =10\n",
    "values = [6.9, 6.1, 6.2, 6.8, 7.5, 6.3, 6.4, 6.9, 6.7, 6.1]\n",
    "p = 0.95\n",
    "\n",
    "# Из таблицы при v = n -1 = 9 и  альфа = 0.05/2 =0.025\n",
    "t_y = 2.262\n",
    "\n",
    "print(np.std(values, ddof = 1))\n",
    "\n",
    "# Доверительные границы\n",
    "T_1 = np.mean(values) - t_y * np.std(values, ddof = 1)/math.sqrt(n)\n",
    "T_2 = np.mean(values) + t_y * np.std(values, ddof = 1)/math.sqrt(n)\n",
    "\n",
    "print(f'Истинное значение измеряемой велечины лежит в довертиельном интервале {T_1} < a < {T_2}')\n",
    "\n"
   ]
  },
  {
   "cell_type": "markdown",
   "metadata": {},
   "source": [
    "3) Утверждается, что шарики для подшипников, изготовленные автоматическим станком, имеют средний диаметр 17 мм.\u000b",
    "Используя односторонний критерий с α=0,05, проверить эту гипотезу, если в выборке из n=100 шариков средний диаметр\u000b",
    "оказался равным 17.5 мм, а дисперсия известна и равна 4 кв.мм."
   ]
  },
  {
   "cell_type": "code",
   "execution_count": 31,
   "metadata": {},
   "outputs": [],
   "source": [
    "D = 4\n",
    "a = 0.05\n",
    "M_0 = 17\n",
    "M_1 = 17.5\n",
    "n = 100\n",
    "p = 1 -a\n",
    "\n",
    "\n",
    "Z_p = (M_1 - M_0)/math.sqrt(D)/math.sqrt(n)"
   ]
  },
  {
   "cell_type": "code",
   "execution_count": null,
   "metadata": {},
   "outputs": [],
   "source": []
  }
 ],
 "metadata": {
  "kernelspec": {
   "display_name": "Python 3",
   "language": "python",
   "name": "python3"
  },
  "language_info": {
   "codemirror_mode": {
    "name": "ipython",
    "version": 3
   },
   "file_extension": ".py",
   "mimetype": "text/x-python",
   "name": "python",
   "nbconvert_exporter": "python",
   "pygments_lexer": "ipython3",
   "version": "3.7.3"
  }
 },
 "nbformat": 4,
 "nbformat_minor": 2
}
