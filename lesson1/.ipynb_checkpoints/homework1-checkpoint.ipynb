{
 "cells": [
  {
   "cell_type": "markdown",
   "metadata": {},
   "source": [
    "1. Из колоды в 52 карты извлекаются случайным образом 4 карты. a) Найти вероятность того, что все карты – крести. б) Найти вероятность, что среди 4-х карт окажется хотя бы один туз."
   ]
  },
  {
   "cell_type": "code",
   "execution_count": 2,
   "metadata": {},
   "outputs": [
    {
     "name": "stdout",
     "output_type": "stream",
     "text": [
      "Collecting numpy\n",
      "\u001b[?25l  Downloading https://files.pythonhosted.org/packages/a5/42/560d269f604d3e186a57c21a363e77e199358d054884e61b73e405dd217c/numpy-1.20.3-cp37-cp37m-manylinux_2_12_x86_64.manylinux2010_x86_64.whl (15.3MB)\n",
      "\u001b[K     |████████████████████████████████| 15.3MB 2.7MB/s eta 0:00:01     |████████████████████████████▎   | 13.5MB 2.7MB/s eta 0:00:01\n",
      "\u001b[?25hInstalling collected packages: numpy\n",
      "Successfully installed numpy-1.20.3\n",
      "Note: you may need to restart the kernel to use updated packages.\n"
     ]
    }
   ],
   "source": [
    "pip install numpy"
   ]
  },
  {
   "cell_type": "code",
   "execution_count": 3,
   "metadata": {},
   "outputs": [],
   "source": [
    "import numpy as np\n",
    "from math import factorial"
   ]
  },
  {
   "cell_type": "code",
   "execution_count": 15,
   "metadata": {},
   "outputs": [
    {
     "name": "stdout",
     "output_type": "stream",
     "text": [
      "Общая вероятность: 0.0026410564225690276\n"
     ]
    }
   ],
   "source": [
    "# вероятность, что все карты крести\n",
    "tacked_cards = 4\n",
    "number_of_cards = 52\n",
    "equal_color_cards = number_of_cards/4\n",
    "p_sum = 0\n",
    "\n",
    "for i in range(0,4):\n",
    "    p_current = (equal_color_cards - i)/(number_of_cards -i)\n",
    "    if i == 0:\n",
    "        p_sum = p_current\n",
    "    else:\n",
    "        p_sum = p_sum * p_current\n",
    "        \n",
    "        \n",
    "    \n",
    "print(f'Общая вероятность: {p_sum}')"
   ]
  },
  {
   "cell_type": "code",
   "execution_count": 25,
   "metadata": {},
   "outputs": [
    {
     "name": "stdout",
     "output_type": "stream",
     "text": [
      "270725.0\n",
      "270725.0\n",
      "194580.0\n",
      "0.7187367254594146\n",
      "0.2812632745405854\n"
     ]
    }
   ],
   "source": [
    "\"\"\" вероятность, что окажется хотя бы один туз \"\"\" \n",
    "\n",
    "# общее число комбинаций\n",
    "number_of_combinations = factorial(number_of_cards) / (factorial(tacked_cards)*factorial(number_of_cards - tacked_cards))\n",
    "print(number_of_combinations)\n",
    "\n",
    "\n",
    "# благоприятствующие событие (среди карт нет туза)\n",
    "number_of_combinations_favor = factorial(number_of_cards - 4) / ((factorial(tacked_cards) * factorial((number_of_cards -4) - tacked_cards)))\n",
    "print(number_of_combinations_favor)\n",
    "\n",
    "# вероятность противоположного события\n",
    "\n",
    "p_dif = number_of_combinations_favor/number_of_combinations\n",
    "\n",
    "print(p_dif)\n",
    "\n",
    "# вероятность, что появится один туз\n",
    "\n",
    "p = 1 - p_dif\n",
    "\n",
    "print (p)"
   ]
  },
  {
   "cell_type": "markdown",
   "metadata": {},
   "source": [
    "2. На входной двери подъезда установлен кодовый замок, содержащий десять кнопок с цифрами от 0 до 9. Код содержит три цифры, которые нужно нажать одновременно. Какова вероятность того, что человек, не знающий код, откроет дверь с первой попытки?"
   ]
  },
  {
   "cell_type": "code",
   "execution_count": 27,
   "metadata": {},
   "outputs": [
    {
     "name": "stdout",
     "output_type": "stream",
     "text": [
      "Число сочетаний: 120.0\n",
      "Вероятность открытия: 0.008333333333333333\n"
     ]
    }
   ],
   "source": [
    "number_of_buttons = 10\n",
    "opens_buttons = 3\n",
    "attempts = 1\n",
    "\n",
    "# общее число сочетаний из 3 кнопок\n",
    "number_of_combinations = factorial(number_of_buttons)/(factorial(opens_buttons)*factorial(number_of_buttons - opens_buttons))\n",
    "print(f'Число сочетаний: {number_of_combinations}')\n",
    "\n",
    "# вероятность открытия с первой попытки\n",
    "\n",
    "p = attempts/number_of_combinations\n",
    "\n",
    "print(f'Вероятность открытия: {p}')"
   ]
  },
  {
   "cell_type": "markdown",
   "metadata": {},
   "source": [
    "3. В ящике имеется 15 деталей, из которых 9 окрашены. Рабочий случайным образом извлекает 3 детали. Какова вероятность того, что все извлеченные детали окрашены?"
   ]
  },
  {
   "cell_type": "code",
   "execution_count": 28,
   "metadata": {},
   "outputs": [
    {
     "name": "stdout",
     "output_type": "stream",
     "text": [
      "Вероятность, что все детали окрашены: 0.18461538461538457\n"
     ]
    }
   ],
   "source": [
    "number_of_details = 15\n",
    "color_details = 9\n",
    "taked_details = 3\n",
    "\n",
    "for i in range(0,3):\n",
    "    p_current = (color_details - i)/(number_of_details -i)\n",
    "    if i == 0:\n",
    "        p_sum = p_current\n",
    "    else:\n",
    "        p_sum = p_sum * p_current\n",
    "  \n",
    "\n",
    "print(f'Вероятность, что все детали окрашены: {p_sum}')"
   ]
  },
  {
   "cell_type": "markdown",
   "metadata": {},
   "source": [
    "4. В лотерее 100 билетов. Из них 2 выигрышных. Какова вероятность того, что 2 приобретенных билета окажутся выигрышными?"
   ]
  },
  {
   "cell_type": "code",
   "execution_count": 30,
   "metadata": {},
   "outputs": [
    {
     "name": "stdout",
     "output_type": "stream",
     "text": [
      "Вероятность, что оба билета выйгрышные: 0.00020202020202020205\n"
     ]
    }
   ],
   "source": [
    "number_of_tickets = 100\n",
    "wins_tickets = 2\n",
    "\n",
    "for i in range(0,2):\n",
    "    p_current = (wins_tickets - i)/(number_of_tickets -i)\n",
    "    if i == 0:\n",
    "        p_sum = p_current\n",
    "    else:\n",
    "        p_sum = p_sum * p_current\n",
    "        \n",
    "print(f'Вероятность, что оба билета выйгрышные: {p_sum}')"
   ]
  },
  {
   "cell_type": "code",
   "execution_count": null,
   "metadata": {},
   "outputs": [],
   "source": []
  }
 ],
 "metadata": {
  "kernelspec": {
   "display_name": "Python 3",
   "language": "python",
   "name": "python3"
  },
  "language_info": {
   "codemirror_mode": {
    "name": "ipython",
    "version": 3
   },
   "file_extension": ".py",
   "mimetype": "text/x-python",
   "name": "python",
   "nbconvert_exporter": "python",
   "pygments_lexer": "ipython3",
   "version": "3.7.3"
  }
 },
 "nbformat": 4,
 "nbformat_minor": 2
}
